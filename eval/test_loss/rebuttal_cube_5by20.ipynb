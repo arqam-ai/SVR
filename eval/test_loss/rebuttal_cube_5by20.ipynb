{
 "cells": [
  {
   "cell_type": "markdown",
   "metadata": {},
   "source": [
    "# This is notebook for ECCV 2020 rebuttal"
   ]
  },
  {
   "cell_type": "markdown",
   "metadata": {},
   "source": [
    "## 1. compute the distance matrix of test ground truth and inferred results(toy dataset)"
   ]
  },
  {
   "cell_type": "markdown",
   "metadata": {},
   "source": [
    "### a. Cube Sphere 5 by 20 clustering "
   ]
  },
  {
   "cell_type": "markdown",
   "metadata": {},
   "source": [
    "Experiment(Folder) idx used in paper **[1, 2, 3, 4, 5, 6, 7]**  \n",
    "**1**:  final average ChamferLoss =0.0774  \n",
    "**2**:  final average ChamferLoss =0.0803  \n",
    "**3**: final average ChamferLoss  =0.0833  \n",
    "**4**: final average ChamferLoss  =0.0814  \n",
    "**5**: final average ChamferLoss  =0.0820  \n",
    "**6**: final average ChamferLoss  =0.0804     \n",
    "**7**: final average ChamferLoss  =0.0780  "
   ]
  },
  {
   "cell_type": "code",
   "execution_count": null,
   "metadata": {},
   "outputs": [],
   "source": []
  }
 ],
 "metadata": {
  "kernelspec": {
   "display_name": "Python 3",
   "language": "python",
   "name": "python3"
  },
  "language_info": {
   "codemirror_mode": {
    "name": "ipython",
    "version": 3
   },
   "file_extension": ".py",
   "mimetype": "text/x-python",
   "name": "python",
   "nbconvert_exporter": "python",
   "pygments_lexer": "ipython3",
   "version": "3.8.2"
  }
 },
 "nbformat": 4,
 "nbformat_minor": 4
}
